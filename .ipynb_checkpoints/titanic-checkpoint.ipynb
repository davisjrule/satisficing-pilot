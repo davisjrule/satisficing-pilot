{
 "cells": [
  {
   "cell_type": "code",
   "execution_count": 1,
   "id": "6ca9bda2",
   "metadata": {},
   "outputs": [],
   "source": [
    "# libraries\n",
    "import csv\n",
    "import pandas as pd\n",
    "import numpy as np\n",
    "from matplotlib import pyplot as plt\n",
    "from sklearn.model_selection import train_test_split"
   ]
  },
  {
   "cell_type": "markdown",
   "id": "c2588c51",
   "metadata": {},
   "source": [
    "## 1. The Dataset: Titanic data"
   ]
  },
  {
   "cell_type": "markdown",
   "id": "386a65a4",
   "metadata": {},
   "source": [
    "#### The Titanic dataset is a classification dataset: it is used for a prediction task where the goal is to determine whether a person survived the 1912 shipwreck of the RMS Titanic. The list of attributes is as follows:\n",
    "\n",
    "- output variable: **Survival**, 0 = did not survive, 1 = did survive\n",
    "- input features:\n",
    "    - **Pclass**: ticket class (1 = 1st, 2 = 2nd, 3 = 3rd)\n",
    "    - **Sex**: male or female\n",
    "    - **Age**: quantitative continuous variable\n",
    "    - **Sibsp**: # of siblings / spouses aboard the Titanic\n",
    "    - **Parch**: # of parents / children aboard the Titanic\t\n",
    "    - **Ticket**: ticket number\n",
    "    - **Fare**: passenger fare\n",
    "    - **Cabin**: cabin number\n",
    "    - **Embarked**: port of embarkation (C = Cherbourg, Q = Queenstown, S = Southampton)"
   ]
  },
  {
   "cell_type": "code",
   "execution_count": 2,
   "id": "38f9c63f",
   "metadata": {},
   "outputs": [
    {
     "data": {
      "text/html": [
       "<div>\n",
       "<style scoped>\n",
       "    .dataframe tbody tr th:only-of-type {\n",
       "        vertical-align: middle;\n",
       "    }\n",
       "\n",
       "    .dataframe tbody tr th {\n",
       "        vertical-align: top;\n",
       "    }\n",
       "\n",
       "    .dataframe thead th {\n",
       "        text-align: right;\n",
       "    }\n",
       "</style>\n",
       "<table border=\"1\" class=\"dataframe\">\n",
       "  <thead>\n",
       "    <tr style=\"text-align: right;\">\n",
       "      <th></th>\n",
       "      <th>PassengerId</th>\n",
       "      <th>Survived</th>\n",
       "      <th>Pclass</th>\n",
       "      <th>Name</th>\n",
       "      <th>Sex</th>\n",
       "      <th>Age</th>\n",
       "      <th>SibSp</th>\n",
       "      <th>Parch</th>\n",
       "      <th>Ticket</th>\n",
       "      <th>Fare</th>\n",
       "      <th>Cabin</th>\n",
       "      <th>Embarked</th>\n",
       "    </tr>\n",
       "  </thead>\n",
       "  <tbody>\n",
       "    <tr>\n",
       "      <th>0</th>\n",
       "      <td>1</td>\n",
       "      <td>0</td>\n",
       "      <td>3</td>\n",
       "      <td>Braund, Mr. Owen Harris</td>\n",
       "      <td>male</td>\n",
       "      <td>22.0</td>\n",
       "      <td>1</td>\n",
       "      <td>0</td>\n",
       "      <td>A/5 21171</td>\n",
       "      <td>7.2500</td>\n",
       "      <td>Unknown</td>\n",
       "      <td>S</td>\n",
       "    </tr>\n",
       "    <tr>\n",
       "      <th>1</th>\n",
       "      <td>2</td>\n",
       "      <td>1</td>\n",
       "      <td>1</td>\n",
       "      <td>Cumings, Mrs. John Bradley (Florence Briggs Th...</td>\n",
       "      <td>female</td>\n",
       "      <td>38.0</td>\n",
       "      <td>1</td>\n",
       "      <td>0</td>\n",
       "      <td>PC 17599</td>\n",
       "      <td>71.2833</td>\n",
       "      <td>C85</td>\n",
       "      <td>C</td>\n",
       "    </tr>\n",
       "    <tr>\n",
       "      <th>2</th>\n",
       "      <td>3</td>\n",
       "      <td>1</td>\n",
       "      <td>3</td>\n",
       "      <td>Heikkinen, Miss. Laina</td>\n",
       "      <td>female</td>\n",
       "      <td>26.0</td>\n",
       "      <td>0</td>\n",
       "      <td>0</td>\n",
       "      <td>STON/O2. 3101282</td>\n",
       "      <td>7.9250</td>\n",
       "      <td>Unknown</td>\n",
       "      <td>S</td>\n",
       "    </tr>\n",
       "    <tr>\n",
       "      <th>3</th>\n",
       "      <td>4</td>\n",
       "      <td>1</td>\n",
       "      <td>1</td>\n",
       "      <td>Futrelle, Mrs. Jacques Heath (Lily May Peel)</td>\n",
       "      <td>female</td>\n",
       "      <td>35.0</td>\n",
       "      <td>1</td>\n",
       "      <td>0</td>\n",
       "      <td>113803</td>\n",
       "      <td>53.1000</td>\n",
       "      <td>C123</td>\n",
       "      <td>S</td>\n",
       "    </tr>\n",
       "    <tr>\n",
       "      <th>4</th>\n",
       "      <td>5</td>\n",
       "      <td>0</td>\n",
       "      <td>3</td>\n",
       "      <td>Allen, Mr. William Henry</td>\n",
       "      <td>male</td>\n",
       "      <td>35.0</td>\n",
       "      <td>0</td>\n",
       "      <td>0</td>\n",
       "      <td>373450</td>\n",
       "      <td>8.0500</td>\n",
       "      <td>Unknown</td>\n",
       "      <td>S</td>\n",
       "    </tr>\n",
       "  </tbody>\n",
       "</table>\n",
       "</div>"
      ],
      "text/plain": [
       "   PassengerId  Survived Pclass  \\\n",
       "0            1         0      3   \n",
       "1            2         1      1   \n",
       "2            3         1      3   \n",
       "3            4         1      1   \n",
       "4            5         0      3   \n",
       "\n",
       "                                                Name     Sex   Age  SibSp  \\\n",
       "0                            Braund, Mr. Owen Harris    male  22.0      1   \n",
       "1  Cumings, Mrs. John Bradley (Florence Briggs Th...  female  38.0      1   \n",
       "2                             Heikkinen, Miss. Laina  female  26.0      0   \n",
       "3       Futrelle, Mrs. Jacques Heath (Lily May Peel)  female  35.0      1   \n",
       "4                           Allen, Mr. William Henry    male  35.0      0   \n",
       "\n",
       "   Parch            Ticket     Fare    Cabin Embarked  \n",
       "0      0         A/5 21171   7.2500  Unknown        S  \n",
       "1      0          PC 17599  71.2833      C85        C  \n",
       "2      0  STON/O2. 3101282   7.9250  Unknown        S  \n",
       "3      0            113803  53.1000     C123        S  \n",
       "4      0            373450   8.0500  Unknown        S  "
      ]
     },
     "execution_count": 2,
     "metadata": {},
     "output_type": "execute_result"
    }
   ],
   "source": [
    "df = pd.read_csv(\"titanic-train.csv\", na_values=['none'])\n",
    "df.fillna('', inplace=True)\n",
    "df[\"Age\"] = df[\"Age\"].apply(lambda x: 0 if x == \"\" else x)\n",
    "df[\"Cabin\"] = df[\"Cabin\"].apply(lambda x: \"Unknown\" if x == \"\" else x)\n",
    "df[\"Embarked\"] = df[\"Embarked\"].apply(lambda x: \"Unknown\" if x == \"\" else x)\n",
    "df[\"Pclass\"] = df[\"Pclass\"].apply(lambda x: str(x))\n",
    "\n",
    "\n",
    "train_cols = [df.columns[0]] + list(df.columns[2:])\n",
    "label = df.columns[1]\n",
    "X_df = df[train_cols]\n",
    "y_df = df[label]\n",
    "\n",
    "dataset = {\n",
    "    'X': X_df,\n",
    "    'y': y_df\n",
    "}\n",
    "\n",
    "df.head()"
   ]
  },
  {
   "cell_type": "code",
   "execution_count": 3,
   "id": "111bce60",
   "metadata": {},
   "outputs": [],
   "source": [
    "# Use this cell for any data-related exploration"
   ]
  },
  {
   "cell_type": "markdown",
   "id": "4fe04090",
   "metadata": {},
   "source": [
    "## 2. The Model: GAMs"
   ]
  },
  {
   "cell_type": "code",
   "execution_count": 8,
   "id": "7c564501",
   "metadata": {},
   "outputs": [
    {
     "data": {
      "text/plain": [
       "ExplainableBoostingClassifier(feature_names=['PassengerId', 'Pclass', 'Name',\n",
       "                                             'Sex', 'Age', 'SibSp', 'Parch',\n",
       "                                             'Ticket', 'Fare', 'Cabin',\n",
       "                                             'Embarked', 'Pclass x Sex',\n",
       "                                             'Name x Ticket', 'Name x Fare',\n",
       "                                             'Ticket x Fare', 'Sex x Age',\n",
       "                                             'Sex x Ticket', 'Sex x Parch',\n",
       "                                             'PassengerId x Pclass',\n",
       "                                             'PassengerId x Embarked',\n",
       "                                             'Name x Age'],\n",
       "                              feature_types=['continuous', 'categorical',\n",
       "                                             'categorical', 'categorical',\n",
       "                                             'continuous', 'continuous',\n",
       "                                             'continuous', 'categorical',\n",
       "                                             'continuous', 'categorical',\n",
       "                                             'categorical', 'interaction',\n",
       "                                             'interaction', 'interaction',\n",
       "                                             'interaction', 'interaction',\n",
       "                                             'interaction', 'interaction',\n",
       "                                             'interaction', 'interaction',\n",
       "                                             'interaction'])"
      ]
     },
     "execution_count": 8,
     "metadata": {},
     "output_type": "execute_result"
    }
   ],
   "source": [
    "from interpret.glassbox import ExplainableBoostingClassifier\n",
    "from sklearn.model_selection import train_test_split\n",
    "\n",
    "# create a train/test split\n",
    "seed = 1\n",
    "X_train, X_test, y_train, y_test = train_test_split(dataset['X'],dataset['y'], test_size=0.25, random_state=seed)\n",
    "\n",
    "# train a GAM for the training dataset\n",
    "ebm = ExplainableBoostingClassifier()\n",
    "\n",
    "ebm.fit(X_train, y_train)"
   ]
  },
  {
   "cell_type": "code",
   "execution_count": 10,
   "id": "a8f43b42",
   "metadata": {},
   "outputs": [
    {
     "name": "stdout",
     "output_type": "stream",
     "text": [
      "The accuracy of the model on the training set is:  0.90868\n",
      "The accuracy of the model on the test set is:  0.79821\n"
     ]
    }
   ],
   "source": [
    "#Training accuracy\n",
    "train_pred = ebm.predict(X_train).tolist()\n",
    "train_pred = [0 if x<=0.5 else 1 for x in train_pred]\n",
    "accuracy_train = round(sum(train_pred == y_train) / len(train_pred), 5)\n",
    "\n",
    "#Test set accuracy\n",
    "predictions = ebm.predict(X_test).tolist()\n",
    "predictions = [0 if x <= 0.5 else 1 for x in predictions]\n",
    "\n",
    "accuracy_test = round(sum(predictions == y_test) / len(predictions), 5)\n",
    "\n",
    "print(\"The accuracy of the model on the training set is: \", accuracy_train)\n",
    "print(\"The accuracy of the model on the test set is: \", accuracy_test)\n",
    "\n",
    "indices = [index for index, value in enumerate(zip(predictions, y_test.tolist())) if value[0] != value[1]]"
   ]
  },
  {
   "cell_type": "markdown",
   "id": "8485f364",
   "metadata": {},
   "source": [
    "### Visualize Global Explanations: What the model learned overall from training data"
   ]
  },
  {
   "cell_type": "code",
   "execution_count": 11,
   "id": "3016a154",
   "metadata": {},
   "outputs": [
    {
     "data": {
      "text/html": [
       "<!-- http://127.0.0.1:7001/140526709771232/ -->\n",
       "<iframe src=\"http://127.0.0.1:7001/140526709771232/\" width=100% height=800 frameBorder=\"0\"></iframe>"
      ]
     },
     "metadata": {},
     "output_type": "display_data"
    }
   ],
   "source": [
    "from interpret import show \n",
    "\n",
    "ebm_global = ebm.explain_global()\n",
    "show(ebm_global)"
   ]
  },
  {
   "cell_type": "markdown",
   "id": "68f4de66",
   "metadata": {},
   "source": [
    "### Visualize Local Explanations: How an individual prediction was made"
   ]
  },
  {
   "cell_type": "code",
   "execution_count": 13,
   "id": "0882e214",
   "metadata": {},
   "outputs": [
    {
     "data": {
      "text/html": [
       "<!-- http://127.0.0.1:7001/140526292575904/ -->\n",
       "<iframe src=\"http://127.0.0.1:7001/140526292575904/\" width=100% height=800 frameBorder=\"0\"></iframe>"
      ]
     },
     "metadata": {},
     "output_type": "display_data"
    }
   ],
   "source": [
    "ebm_local = ebm.explain_local(X_test[:15], y_test[:15], name='EBM')\n",
    "show(ebm_local)"
   ]
  },
  {
   "cell_type": "markdown",
   "id": "59942fdd",
   "metadata": {},
   "source": [
    "## 3. Questions"
   ]
  },
  {
   "cell_type": "markdown",
   "id": "7d1e8486",
   "metadata": {},
   "source": [
    "Please answer these to the best of your abilities. Make sure to also answer the follow-up questions in each of the code cells.\n",
    "\n",
    "If you need to write code to answer the question, please use the code cell provided\n",
    "\n",
    "If you don't know how to answer a question, please note that to the researcher in the room, explain why you cannot answer the question in the cell, and move on to the next one."
   ]
  },
  {
   "cell_type": "markdown",
   "id": "8eab53fb",
   "metadata": {},
   "source": [
    "#### Question 1: How familiar are you with the events surrounding the sinking of the Titanic? "
   ]
  },
  {
   "cell_type": "code",
   "execution_count": 15,
   "id": "4e6aaf97",
   "metadata": {},
   "outputs": [],
   "source": [
    "# How familiar are you with the events surrounding the sinking of the Titanic? \n",
    "# Response: \n",
    "# If you had to give it a number, on a scale of 1-7, how would you rate your familiarity? \n",
    "# Response: \n",
    "\n",
    "\n",
    "# Have you previously interacted with datasets about passengers on the Titanic? \n",
    "# Response: \n",
    "# On a scale of 1-7, how would you rate your familiarity  with datasets about passengers on the Titanic? \n",
    "# Response: \n",
    "\n",
    "# Specifically, have you worked with Kaggle’s Titanic dataset?  \n",
    "# Response: \n",
    "# On a scale of 1-7, how would you rate your familiarity with the Kaggle dataset?\n",
    "# Response: "
   ]
  },
  {
   "cell_type": "markdown",
   "id": "1d5457ba",
   "metadata": {},
   "source": [
    "#### Question 2: Global feature importance"
   ]
  },
  {
   "cell_type": "code",
   "execution_count": 16,
   "id": "a83d805e",
   "metadata": {},
   "outputs": [],
   "source": [
    "# Is this feature importance order reasonable for the Titanic data? Why or why not?\n",
    "# Response: \n",
    "# On a scale of 1-7, how reasonable is the feature importance order?\n",
    "# Response: \n"
   ]
  },
  {
   "cell_type": "markdown",
   "id": "6bf91a3f",
   "metadata": {},
   "source": [
    "#### Question 2: "
   ]
  },
  {
   "cell_type": "code",
   "execution_count": null,
   "id": "2011613f",
   "metadata": {},
   "outputs": [],
   "source": []
  },
  {
   "cell_type": "markdown",
   "id": "a1171403",
   "metadata": {},
   "source": [
    "#### Question [ ]: Reflecting"
   ]
  },
  {
   "cell_type": "code",
   "execution_count": 17,
   "id": "70ccf292",
   "metadata": {},
   "outputs": [],
   "source": [
    "# On a scale of 1-7, how easy was it to answer these questions about the Titanic dataset?\n",
    "# Response: \n",
    "\n",
    "# What made it easy/hard to answer questions about the Titanic dataset?\n",
    "# Response: \n",
    "\n",
    "# When answering the questions, were you relying on the visuals alone or was there any \n",
    "# prior knowledge you used in your answers? \n",
    "# Response: \n"
   ]
  },
  {
   "cell_type": "code",
   "execution_count": null,
   "id": "0944c73f",
   "metadata": {},
   "outputs": [],
   "source": []
  }
 ],
 "metadata": {
  "kernelspec": {
   "display_name": "Python 3 (ipykernel)",
   "language": "python",
   "name": "python3"
  },
  "language_info": {
   "codemirror_mode": {
    "name": "ipython",
    "version": 3
   },
   "file_extension": ".py",
   "mimetype": "text/x-python",
   "name": "python",
   "nbconvert_exporter": "python",
   "pygments_lexer": "ipython3",
   "version": "3.8.12"
  }
 },
 "nbformat": 4,
 "nbformat_minor": 5
}
