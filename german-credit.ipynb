{
 "cells": [
  {
   "cell_type": "code",
   "execution_count": 1,
   "id": "5b31c11f",
   "metadata": {},
   "outputs": [],
   "source": [
    "# libraries\n",
    "import csv\n",
    "import pandas as pd\n",
    "import numpy as np\n",
    "from random import shuffle\n",
    "from matplotlib import pyplot as plt\n",
    "from sklearn.model_selection import train_test_split"
   ]
  },
  {
   "cell_type": "markdown",
   "id": "239525d2",
   "metadata": {},
   "source": [
    "## 1. The Dataset: German Credit Data"
   ]
  },
  {
   "cell_type": "markdown",
   "id": "1117d54e",
   "metadata": {},
   "source": [
    "#### The German Credit dataset is a classification dataset: it is used for a prediction task where the goal is to determine whether _____\n",
    "#### The list of attributes is as follows:\n",
    "- output variable: **result**, credit risk - good (1), bad (2)\n",
    "- input features:      \n",
    "    - **status_checking**: Status of existing checking account (... < 0 DM, 0 <= ... < 200 DM, ... >= 200 DM, no checking account)\n",
    "    - **duration**: duration in month (numerical)\n",
    "    - **credit_hist**: Credit history (no credits taken/all credits paid back duly, all credits at this bank paid back duly, existing credits paid back duly till now, delay in paying off in the past, critical account/other credits existing)\n",
    "    - **purpose**: Purpose (car (new), car (used), furniture/equipment, radio/television, domestic appliances, repairs, education, (vacation - does not exist?), retraining, business, others)\n",
    "    - **credit_amt**: Credit amount (numerical)\n",
    "    - **savings**: Savings account/bonds (... < 100 DM, 100 <= ... < 500 DM, 500 <= ... < 1000 DM, ... >= 1000 DM, unknown/no savings account)\n",
    "    - **employment_len**: Present employment duration (unemployed, ... < 1 year, 1 <= ... < 4 years, 4 <= ... < 7 years, ... >= 7 years)\n",
    "    - **installment_rate**: Installment rate in percentage of disposable income (numerical)\n",
    "    - **sex_marital_status** Sex and personal status (male : divorced/separated, female : divorced/separated/married, male : single, male : married/widowed, female : single)\n",
    "    - **debtors_guarantors**: Other debtors/guarantors (none, co-applicant, guarantor)\n",
    "    - **residency_len**: Present residence since (numnerical)\n",
    "    - **property**: Property (real estate, building society savings agreement/life insurance, car or other, unknown/no property)\n",
    "    - **age**: Age in years (numerical)\n",
    "    - **installment_plans**: Other installment plans (bank, stores, none)\n",
    "    - **housing**: Housing (rent, own, for free)\n",
    "    - **credits_at_bank**: Number of existing credits at this bank (numerical)\n",
    "    - **job**: Job (unemployed/unskilled - non-resident, unskilled - resident, skilled employee/official, management/self-employed/highly qualified employee/officer\n",
    "    - **num_liable**: NUmber of people being liable to provide maintenance for (numerical)\n",
    "    - **telephone**: Telephone (none, yes)\n",
    "    - **foreign_worker**: Foreign worker (yes, no)\n",
    "\n"
   ]
  },
  {
   "cell_type": "code",
   "execution_count": 2,
   "id": "6707936b",
   "metadata": {},
   "outputs": [
    {
     "data": {
      "text/html": [
       "<div>\n",
       "<style scoped>\n",
       "    .dataframe tbody tr th:only-of-type {\n",
       "        vertical-align: middle;\n",
       "    }\n",
       "\n",
       "    .dataframe tbody tr th {\n",
       "        vertical-align: top;\n",
       "    }\n",
       "\n",
       "    .dataframe thead th {\n",
       "        text-align: right;\n",
       "    }\n",
       "</style>\n",
       "<table border=\"1\" class=\"dataframe\">\n",
       "  <thead>\n",
       "    <tr style=\"text-align: right;\">\n",
       "      <th></th>\n",
       "      <th>status_checking</th>\n",
       "      <th>duration</th>\n",
       "      <th>credit_hist</th>\n",
       "      <th>purpose</th>\n",
       "      <th>credit_amt</th>\n",
       "      <th>savings</th>\n",
       "      <th>employment_len</th>\n",
       "      <th>installment_rate</th>\n",
       "      <th>sex_marital_status</th>\n",
       "      <th>debtors_guarantors</th>\n",
       "      <th>...</th>\n",
       "      <th>property</th>\n",
       "      <th>age</th>\n",
       "      <th>installment_plans</th>\n",
       "      <th>housing</th>\n",
       "      <th>credits_at_bank</th>\n",
       "      <th>job</th>\n",
       "      <th>num_liable</th>\n",
       "      <th>telephone</th>\n",
       "      <th>foreign_worker</th>\n",
       "      <th>result</th>\n",
       "    </tr>\n",
       "  </thead>\n",
       "  <tbody>\n",
       "    <tr>\n",
       "      <th>0</th>\n",
       "      <td>... &lt; 0 DM</td>\n",
       "      <td>6</td>\n",
       "      <td>critical account/ other credits existing (not ...</td>\n",
       "      <td>radio/television</td>\n",
       "      <td>1169</td>\n",
       "      <td>unknown/no savings account</td>\n",
       "      <td>.. &gt;= 7 years</td>\n",
       "      <td>4</td>\n",
       "      <td>male : single</td>\n",
       "      <td>none</td>\n",
       "      <td>...</td>\n",
       "      <td>real estate</td>\n",
       "      <td>67</td>\n",
       "      <td>none</td>\n",
       "      <td>own</td>\n",
       "      <td>2</td>\n",
       "      <td>skilled employee / official</td>\n",
       "      <td>1</td>\n",
       "      <td>yes, registered under the customers name</td>\n",
       "      <td>yes</td>\n",
       "      <td>1</td>\n",
       "    </tr>\n",
       "    <tr>\n",
       "      <th>1</th>\n",
       "      <td>0 &lt;= ... &lt; 200 DM</td>\n",
       "      <td>48</td>\n",
       "      <td>existing credits paid back duly till now</td>\n",
       "      <td>radio/television</td>\n",
       "      <td>5951</td>\n",
       "      <td>... &lt; 100 DM</td>\n",
       "      <td>1 &lt;= ... &lt; 4 years</td>\n",
       "      <td>2</td>\n",
       "      <td>female : divorced/separated/married</td>\n",
       "      <td>none</td>\n",
       "      <td>...</td>\n",
       "      <td>real estate</td>\n",
       "      <td>22</td>\n",
       "      <td>none</td>\n",
       "      <td>own</td>\n",
       "      <td>1</td>\n",
       "      <td>skilled employee / official</td>\n",
       "      <td>1</td>\n",
       "      <td>none</td>\n",
       "      <td>yes</td>\n",
       "      <td>2</td>\n",
       "    </tr>\n",
       "    <tr>\n",
       "      <th>2</th>\n",
       "      <td>no checking account</td>\n",
       "      <td>12</td>\n",
       "      <td>critical account/ other credits existing (not ...</td>\n",
       "      <td>education</td>\n",
       "      <td>2096</td>\n",
       "      <td>... &lt; 100 DM</td>\n",
       "      <td>4 &lt;= ... &lt; 7 years</td>\n",
       "      <td>2</td>\n",
       "      <td>male : single</td>\n",
       "      <td>none</td>\n",
       "      <td>...</td>\n",
       "      <td>real estate</td>\n",
       "      <td>49</td>\n",
       "      <td>none</td>\n",
       "      <td>own</td>\n",
       "      <td>1</td>\n",
       "      <td>unskilled - resident</td>\n",
       "      <td>2</td>\n",
       "      <td>none</td>\n",
       "      <td>yes</td>\n",
       "      <td>1</td>\n",
       "    </tr>\n",
       "    <tr>\n",
       "      <th>3</th>\n",
       "      <td>... &lt; 0 DM</td>\n",
       "      <td>42</td>\n",
       "      <td>existing credits paid back duly till now</td>\n",
       "      <td>furniture/equipment</td>\n",
       "      <td>7882</td>\n",
       "      <td>... &lt; 100 DM</td>\n",
       "      <td>4 &lt;= ... &lt; 7 years</td>\n",
       "      <td>2</td>\n",
       "      <td>male : single</td>\n",
       "      <td>guarantor</td>\n",
       "      <td>...</td>\n",
       "      <td>building society savings agreement/ life insur...</td>\n",
       "      <td>45</td>\n",
       "      <td>none</td>\n",
       "      <td>for free</td>\n",
       "      <td>1</td>\n",
       "      <td>skilled employee / official</td>\n",
       "      <td>2</td>\n",
       "      <td>none</td>\n",
       "      <td>yes</td>\n",
       "      <td>1</td>\n",
       "    </tr>\n",
       "    <tr>\n",
       "      <th>4</th>\n",
       "      <td>... &lt; 0 DM</td>\n",
       "      <td>24</td>\n",
       "      <td>delay in paying off in the past</td>\n",
       "      <td>car (new)</td>\n",
       "      <td>4870</td>\n",
       "      <td>... &lt; 100 DM</td>\n",
       "      <td>1 &lt;= ... &lt; 4 years</td>\n",
       "      <td>3</td>\n",
       "      <td>male : single</td>\n",
       "      <td>none</td>\n",
       "      <td>...</td>\n",
       "      <td>unknown / no property</td>\n",
       "      <td>53</td>\n",
       "      <td>none</td>\n",
       "      <td>for free</td>\n",
       "      <td>2</td>\n",
       "      <td>skilled employee / official</td>\n",
       "      <td>2</td>\n",
       "      <td>none</td>\n",
       "      <td>yes</td>\n",
       "      <td>2</td>\n",
       "    </tr>\n",
       "  </tbody>\n",
       "</table>\n",
       "<p>5 rows × 21 columns</p>\n",
       "</div>"
      ],
      "text/plain": [
       "       status_checking  duration  \\\n",
       "0           ... < 0 DM         6   \n",
       "1    0 <= ... < 200 DM        48   \n",
       "2  no checking account        12   \n",
       "3           ... < 0 DM        42   \n",
       "4           ... < 0 DM        24   \n",
       "\n",
       "                                         credit_hist              purpose  \\\n",
       "0  critical account/ other credits existing (not ...     radio/television   \n",
       "1           existing credits paid back duly till now     radio/television   \n",
       "2  critical account/ other credits existing (not ...            education   \n",
       "3           existing credits paid back duly till now  furniture/equipment   \n",
       "4                    delay in paying off in the past            car (new)   \n",
       "\n",
       "   credit_amt                     savings      employment_len  \\\n",
       "0        1169  unknown/no savings account       .. >= 7 years   \n",
       "1        5951                ... < 100 DM  1 <= ... < 4 years   \n",
       "2        2096                ... < 100 DM  4 <= ... < 7 years   \n",
       "3        7882                ... < 100 DM  4 <= ... < 7 years   \n",
       "4        4870                ... < 100 DM  1 <= ... < 4 years   \n",
       "\n",
       "   installment_rate                   sex_marital_status debtors_guarantors  \\\n",
       "0                 4                        male : single               none   \n",
       "1                 2  female : divorced/separated/married               none   \n",
       "2                 2                        male : single               none   \n",
       "3                 2                        male : single          guarantor   \n",
       "4                 3                        male : single               none   \n",
       "\n",
       "   ...                                           property age  \\\n",
       "0  ...                                        real estate  67   \n",
       "1  ...                                        real estate  22   \n",
       "2  ...                                        real estate  49   \n",
       "3  ...  building society savings agreement/ life insur...  45   \n",
       "4  ...                              unknown / no property  53   \n",
       "\n",
       "   installment_plans   housing credits_at_bank                          job  \\\n",
       "0               none       own               2  skilled employee / official   \n",
       "1               none       own               1  skilled employee / official   \n",
       "2               none       own               1         unskilled - resident   \n",
       "3               none  for free               1  skilled employee / official   \n",
       "4               none  for free               2  skilled employee / official   \n",
       "\n",
       "  num_liable                                 telephone foreign_worker result  \n",
       "0          1  yes, registered under the customers name            yes      1  \n",
       "1          1                                      none            yes      2  \n",
       "2          2                                      none            yes      1  \n",
       "3          2                                      none            yes      1  \n",
       "4          2                                      none            yes      2  \n",
       "\n",
       "[5 rows x 21 columns]"
      ]
     },
     "execution_count": 2,
     "metadata": {},
     "output_type": "execute_result"
    }
   ],
   "source": [
    "df = pd.read_csv(\"german_data.csv\")\n",
    "df.fillna('', inplace=True)\n",
    "\n",
    "# isolate response variable\n",
    "result_index = list(df.columns).index(\"result\")\n",
    "train_cols = list(df.columns[0:result_index]) + list(df.columns[result_index+1:])\n",
    "label = df.columns[result_index]\n",
    "X_df = df[list(train_cols)]\n",
    "y_df = df[label]\n",
    "\n",
    "\n",
    "dataset = {\n",
    "    'X': X_df,\n",
    "    'y': y_df\n",
    "}\n",
    "\n",
    "df.head()"
   ]
  },
  {
   "cell_type": "code",
   "execution_count": 3,
   "id": "d7e10b6b",
   "metadata": {},
   "outputs": [],
   "source": [
    "# Use this cell for any data-related exploration"
   ]
  },
  {
   "cell_type": "markdown",
   "id": "932e7d12",
   "metadata": {},
   "source": [
    "## 2. The Model: GAMs"
   ]
  },
  {
   "cell_type": "code",
   "execution_count": 4,
   "id": "5f10a974",
   "metadata": {},
   "outputs": [
    {
     "data": {
      "text/plain": [
       "ExplainableBoostingClassifier(feature_names=['status_checking', 'duration',\n",
       "                                             'credit_hist', 'purpose',\n",
       "                                             'credit_amt', 'savings',\n",
       "                                             'employment_len',\n",
       "                                             'installment_rate',\n",
       "                                             'sex_marital_status',\n",
       "                                             'debtors_guarantors',\n",
       "                                             'residency_len', 'property', 'age',\n",
       "                                             'installment_plans', 'housing',\n",
       "                                             'credits_at_bank', 'job',\n",
       "                                             'num_liable', 'telephone',\n",
       "                                             'foreign_worker',\n",
       "                                             'duration x savings',\n",
       "                                             'du...\n",
       "                                             'continuous', 'categorical',\n",
       "                                             'categorical', 'continuous',\n",
       "                                             'categorical', 'categorical',\n",
       "                                             'continuous', 'categorical',\n",
       "                                             'continuous', 'categorical',\n",
       "                                             'categorical', 'continuous',\n",
       "                                             'categorical', 'continuous',\n",
       "                                             'categorical', 'categorical',\n",
       "                                             'interaction', 'interaction',\n",
       "                                             'interaction', 'interaction',\n",
       "                                             'interaction', 'interaction',\n",
       "                                             'interaction', 'interaction',\n",
       "                                             'interaction', 'interaction'])"
      ]
     },
     "execution_count": 4,
     "metadata": {},
     "output_type": "execute_result"
    }
   ],
   "source": [
    "from interpret.glassbox import ExplainableBoostingClassifier\n",
    "from sklearn.model_selection import train_test_split\n",
    "\n",
    "# create a train/test split\n",
    "seed = 1\n",
    "X_train, X_test, y_train, y_test = train_test_split(dataset['X'],dataset['y'], test_size=0.25, random_state=seed)\n",
    "\n",
    "# train a GAM for the training dataset\n",
    "ebm = ExplainableBoostingClassifier()\n",
    "\n",
    "ebm.fit(X_train, y_train)"
   ]
  },
  {
   "cell_type": "code",
   "execution_count": 5,
   "id": "35a8bfd6",
   "metadata": {},
   "outputs": [
    {
     "name": "stdout",
     "output_type": "stream",
     "text": [
      "The accuracy of the model on the training set is:  0.86267\n",
      "The accuracy of the model on the test set is:  0.752\n"
     ]
    }
   ],
   "source": [
    "#Training accuracy\n",
    "train_pred = ebm.predict(X_train).tolist()\n",
    "same_train = sum(x == y for x, y in zip(train_pred, y_train.tolist()))\n",
    "accuracy_train = round(same_train/ len(train_pred), 5)\n",
    "\n",
    "#Test set accuracy\n",
    "test_pred = ebm.predict(X_test).tolist()\n",
    "same_test = sum(x == y for x, y in zip(test_pred, y_test.tolist()))\n",
    "accuracy_test = round(same_test/ len(test_pred), 5)\n",
    "\n",
    "print(\"The accuracy of the model on the training set is: \", accuracy_train)\n",
    "print(\"The accuracy of the model on the test set is: \", accuracy_test)\n",
    "\n",
    "indices = [index for index, value in enumerate(zip(test_pred, y_test.tolist())) if value[0] != value[1]]"
   ]
  },
  {
   "cell_type": "markdown",
   "id": "d6aa2ece",
   "metadata": {},
   "source": [
    "### Visualize Global Explanations: What the model learned overall from training data"
   ]
  },
  {
   "cell_type": "code",
   "execution_count": 6,
   "id": "e9dafee0",
   "metadata": {
    "scrolled": false
   },
   "outputs": [
    {
     "name": "stderr",
     "output_type": "stream",
     "text": [
      "/Users/davisrule/opt/anaconda3/lib/python3.8/site-packages/interpret/visual/udash.py:5: UserWarning: \n",
      "The dash_html_components package is deprecated. Please replace\n",
      "`import dash_html_components as html` with `from dash import html`\n",
      "  import dash_html_components as html\n",
      "/Users/davisrule/opt/anaconda3/lib/python3.8/site-packages/interpret/visual/udash.py:6: UserWarning: \n",
      "The dash_core_components package is deprecated. Please replace\n",
      "`import dash_core_components as dcc` with `from dash import dcc`\n",
      "  import dash_core_components as dcc\n",
      "/Users/davisrule/opt/anaconda3/lib/python3.8/site-packages/interpret/visual/udash.py:7: UserWarning: \n",
      "The dash_table package is deprecated. Please replace\n",
      "`import dash_table` with `from dash import dash_table`\n",
      "\n",
      "Also, if you're using any of the table format helpers (e.g. Group), replace \n",
      "`from dash_table.Format import Group` with \n",
      "`from dash.dash_table.Format import Group`\n",
      "  import dash_table as dt\n"
     ]
    },
    {
     "data": {
      "text/html": [
       "<!-- http://127.0.0.1:7001/140645845405856/ -->\n",
       "<iframe src=\"http://127.0.0.1:7001/140645845405856/\" width=100% height=800 frameBorder=\"0\"></iframe>"
      ]
     },
     "metadata": {},
     "output_type": "display_data"
    }
   ],
   "source": [
    "from interpret import show \n",
    "\n",
    "ebm_global = ebm.explain_global()\n",
    "show(ebm_global)"
   ]
  },
  {
   "cell_type": "markdown",
   "id": "16980d93",
   "metadata": {},
   "source": [
    "### Visualize Local Explanations: How an individual prediction was made"
   ]
  },
  {
   "cell_type": "code",
   "execution_count": 22,
   "id": "ca9ff577",
   "metadata": {
    "scrolled": false
   },
   "outputs": [
    {
     "data": {
      "text/html": [
       "<!-- http://127.0.0.1:7001/140647091440608/ -->\n",
       "<iframe src=\"http://127.0.0.1:7001/140647091440608/\" width=100% height=800 frameBorder=\"0\"></iframe>"
      ]
     },
     "metadata": {},
     "output_type": "display_data"
    }
   ],
   "source": [
    "ebm_local = ebm.explain_local(X_test[:15], y_test[:15], name = 'EBM')\n",
    "show(ebm_local)"
   ]
  },
  {
   "cell_type": "markdown",
   "id": "8abff4ec",
   "metadata": {},
   "source": [
    "#### Local predictions"
   ]
  },
  {
   "attachments": {
    "german-credit-hidden.png": {
     "image/png": "[encoded data removed]"
    }
   },
   "cell_type": "markdown",
   "id": "7f9fa3bf",
   "metadata": {},
   "source": [
    "![german-credit-hidden.png](attachment:german-credit-hidden.png)"
   ]
  },
  {
   "cell_type": "markdown",
   "id": "537de4cb",
   "metadata": {},
   "source": [
    "#### Local misclassification"
   ]
  },
  {
   "cell_type": "code",
   "execution_count": 26,
   "id": "49f21e9d",
   "metadata": {},
   "outputs": [
    {
     "data": {
      "text/html": [
       "<!-- http://127.0.0.1:7001/140647071947600/ -->\n",
       "<iframe src=\"http://127.0.0.1:7001/140647071947600/\" width=100% height=800 frameBorder=\"0\"></iframe>"
      ]
     },
     "metadata": {},
     "output_type": "display_data"
    }
   ],
   "source": [
    "ebm_local = ebm.explain_local(X_test[5:6], y_test[5:6], name='EBM')\n",
    "show(ebm_local)"
   ]
  }
 ],
 "metadata": {
  "kernelspec": {
   "display_name": "Python 3 (ipykernel)",
   "language": "python",
   "name": "python3"
  },
  "language_info": {
   "codemirror_mode": {
    "name": "ipython",
    "version": 3
   },
   "file_extension": ".py",
   "mimetype": "text/x-python",
   "name": "python",
   "nbconvert_exporter": "python",
   "pygments_lexer": "ipython3",
   "version": "3.8.12"
  }
 },
 "nbformat": 4,
 "nbformat_minor": 5
}
