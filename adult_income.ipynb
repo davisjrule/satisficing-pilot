{
 "cells": [
  {
   "cell_type": "code",
   "execution_count": 56,
   "id": "ee6539dd",
   "metadata": {},
   "outputs": [],
   "source": [
    "# libraries\n",
    "import csv\n",
    "import pandas as pd\n",
    "import numpy as np\n",
    "from random import shuffle\n",
    "from matplotlib import pyplot as plt\n",
    "from sklearn.model_selection import train_test_split\n"
   ]
  },
  {
   "cell_type": "markdown",
   "id": "5dd602a0",
   "metadata": {},
   "source": [
    "## 1. The Dataset: Adult Income"
   ]
  },
  {
   "cell_type": "markdown",
   "id": "062ea5f7",
   "metadata": {},
   "source": [
    "#### The Adult Income dataset is a classification dataset: it is used for a prediction task where the goal is to determine whether a person makes over 50k a year. The list of attributes is as follows:\n",
    "- output variable: **Income**, <=50k and >50k (converted to 0 and 1 respectively)\n",
    "- input features: \n",
    "    - **Age**: a continuous number\n",
    "    - **WorkClass**: a categorical variable that represents different work sectors, including values such as Federal employee, Private, Self-emp-not-inc, Self-emp-inc, Federal-gov, Local-gov, State-gov, Without-pay, Never-worked, Federal worker\n",
    "    - **Education**: a categorical variable that represents the level of education, including values such as Bachelors, Some-college, 11th, HS-grad, Prof-school, Assoc-acdm, Assoc-voc, 9th, 7th-8th, 12th, Masters, 1st-4th, 10th, Doctorate, 5th-6th, Preschool\n",
    "    - **MaritalStatus**: a categorical variable with values Married-civ-spouse (Married to a civilian spouse), Divorced, Never-married, Separated, Widowed, Married-spouse-absent, Married-AF-spouse (Married to someone in the Armed Forces) \n",
    "    - **Occupation**: a categorical variable with values Tech-support, Craft-repair, Other-service, Sales, Exec-managerial, Prof-specialty, Handlers-cleaners, Machine-op-inspct, Adm-clerical, Farming-fishing, Transport-moving, Priv-house-serv, Protective-serv, Armed-Forces\n",
    "    - **EducationNum**: a continuous value that represents the level of education (0 = Preschool, 16 = Doctorate)\n",
    "    - **Race**: a categorical variable with values White, Asian-Pac-Islander, Amer-Indian-Eskimo, Other, Black \n",
    "    - **Gender**: a binary variable, includes Female and Male\n",
    "    - **CapitalGain**: a continuous number\n",
    "    - **CapitalLoss**: a continuous number\n",
    "    - **HoursPerWeek**: a categorical variable including hour ranges of 0-30, 30-60, 60-90, 90+\n",
    "    - **NativeCountry**: a categorical variable including countries such as United-States, Cambodia, England, Puerto-Rico, Canada, Germany, Outlying-US(Guam-USVI-etc), India, Japan, Greece, South, China, Cuba, Iran, Honduras, Philippines, Italy, Poland, Jamaica, Vietnam, Mexico, Portugal, Ireland, France, Dominican-Republic, Laos, Ecuador, Taiwan, Haiti, Columbia, Hungary, Guatemala, Nicaragua, Scotland, Thailand, Yugoslavia, El-Salvador, Trinadad&Tobago, Peru, Hong, Holand-Netherlands"
   ]
  },
  {
   "cell_type": "code",
   "execution_count": 57,
   "id": "c04f01f4",
   "metadata": {},
   "outputs": [
    {
     "data": {
      "text/html": [
       "<div>\n",
       "<style scoped>\n",
       "    .dataframe tbody tr th:only-of-type {\n",
       "        vertical-align: middle;\n",
       "    }\n",
       "\n",
       "    .dataframe tbody tr th {\n",
       "        vertical-align: top;\n",
       "    }\n",
       "\n",
       "    .dataframe thead th {\n",
       "        text-align: right;\n",
       "    }\n",
       "</style>\n",
       "<table border=\"1\" class=\"dataframe\">\n",
       "  <thead>\n",
       "    <tr style=\"text-align: right;\">\n",
       "      <th></th>\n",
       "      <th>Age</th>\n",
       "      <th>WorkClass</th>\n",
       "      <th>Education</th>\n",
       "      <th>EducationNum</th>\n",
       "      <th>MaritalStatus</th>\n",
       "      <th>Occupation</th>\n",
       "      <th>Race</th>\n",
       "      <th>Gender</th>\n",
       "      <th>CapitalGain</th>\n",
       "      <th>CapitalLoss</th>\n",
       "      <th>HoursPerWeek</th>\n",
       "      <th>NativeCountry</th>\n",
       "      <th>Income</th>\n",
       "    </tr>\n",
       "  </thead>\n",
       "  <tbody>\n",
       "    <tr>\n",
       "      <th>0</th>\n",
       "      <td>39</td>\n",
       "      <td>State-gov</td>\n",
       "      <td>Bachelors</td>\n",
       "      <td>13</td>\n",
       "      <td>Never-married</td>\n",
       "      <td>Adm-clerical</td>\n",
       "      <td>White</td>\n",
       "      <td>Male</td>\n",
       "      <td>2174</td>\n",
       "      <td>0</td>\n",
       "      <td>30-60</td>\n",
       "      <td>United-States</td>\n",
       "      <td>&lt;=50K</td>\n",
       "    </tr>\n",
       "    <tr>\n",
       "      <th>1</th>\n",
       "      <td>50</td>\n",
       "      <td>Self-emp-not-inc</td>\n",
       "      <td>Bachelors</td>\n",
       "      <td>13</td>\n",
       "      <td>Married-civ-spouse</td>\n",
       "      <td>Exec-managerial</td>\n",
       "      <td>White</td>\n",
       "      <td>Male</td>\n",
       "      <td>0</td>\n",
       "      <td>0</td>\n",
       "      <td>0-30</td>\n",
       "      <td>United-States</td>\n",
       "      <td>&lt;=50K</td>\n",
       "    </tr>\n",
       "    <tr>\n",
       "      <th>2</th>\n",
       "      <td>38</td>\n",
       "      <td>Private</td>\n",
       "      <td>HS-grad</td>\n",
       "      <td>9</td>\n",
       "      <td>Divorced</td>\n",
       "      <td>Handlers-cleaners</td>\n",
       "      <td>White</td>\n",
       "      <td>Male</td>\n",
       "      <td>0</td>\n",
       "      <td>0</td>\n",
       "      <td>30-60</td>\n",
       "      <td>United-States</td>\n",
       "      <td>&lt;=50K</td>\n",
       "    </tr>\n",
       "    <tr>\n",
       "      <th>3</th>\n",
       "      <td>53</td>\n",
       "      <td>Private</td>\n",
       "      <td>11th</td>\n",
       "      <td>7</td>\n",
       "      <td>Married-civ-spouse</td>\n",
       "      <td>Handlers-cleaners</td>\n",
       "      <td>Black</td>\n",
       "      <td>Male</td>\n",
       "      <td>0</td>\n",
       "      <td>0</td>\n",
       "      <td>30-60</td>\n",
       "      <td>United-States</td>\n",
       "      <td>&lt;=50K</td>\n",
       "    </tr>\n",
       "    <tr>\n",
       "      <th>4</th>\n",
       "      <td>28</td>\n",
       "      <td>Private</td>\n",
       "      <td>Bachelors</td>\n",
       "      <td>13</td>\n",
       "      <td>Married-civ-spouse</td>\n",
       "      <td>Prof-specialty</td>\n",
       "      <td>Black</td>\n",
       "      <td>Female</td>\n",
       "      <td>0</td>\n",
       "      <td>0</td>\n",
       "      <td>30-60</td>\n",
       "      <td>Cuba</td>\n",
       "      <td>&lt;=50K</td>\n",
       "    </tr>\n",
       "  </tbody>\n",
       "</table>\n",
       "</div>"
      ],
      "text/plain": [
       "   Age          WorkClass   Education  EducationNum        MaritalStatus  \\\n",
       "0   39          State-gov   Bachelors            13        Never-married   \n",
       "1   50   Self-emp-not-inc   Bachelors            13   Married-civ-spouse   \n",
       "2   38            Private     HS-grad             9             Divorced   \n",
       "3   53            Private        11th             7   Married-civ-spouse   \n",
       "4   28            Private   Bachelors            13   Married-civ-spouse   \n",
       "\n",
       "           Occupation    Race   Gender  CapitalGain  CapitalLoss HoursPerWeek  \\\n",
       "0        Adm-clerical   White     Male         2174            0        30-60   \n",
       "1     Exec-managerial   White     Male            0            0         0-30   \n",
       "2   Handlers-cleaners   White     Male            0            0        30-60   \n",
       "3   Handlers-cleaners   Black     Male            0            0        30-60   \n",
       "4      Prof-specialty   Black   Female            0            0        30-60   \n",
       "\n",
       "    NativeCountry  Income  \n",
       "0   United-States   <=50K  \n",
       "1   United-States   <=50K  \n",
       "2   United-States   <=50K  \n",
       "3   United-States   <=50K  \n",
       "4            Cuba   <=50K  "
      ]
     },
     "execution_count": 57,
     "metadata": {},
     "output_type": "execute_result"
    }
   ],
   "source": [
    "df = pd.read_csv(\"adult_income_orig.csv\")\n",
    "\n",
    "df.columns = [\n",
    "        \"Age\", \"WorkClass\", \"fnlwgt\", \"Education\", \"EducationNum\",\n",
    "        \"MaritalStatus\", \"Occupation\", \"Relationship\", \"Race\", \"Gender\",\n",
    "        \"CapitalGain\", \"CapitalLoss\", \"HoursPerWeek\", \"NativeCountry\", \"Income\"]\n",
    "\n",
    "def convert_hours(x):\n",
    "    if x < 30:\n",
    "        return \"0-30\"\n",
    "    elif x < 60:\n",
    "        return \"30-60\"\n",
    "    elif x < 90:\n",
    "        return \"60-90\"\n",
    "    else:\n",
    "        return \"90+\"\n",
    "\n",
    "df['HoursPerWeek'] = df['HoursPerWeek'].apply(lambda x: convert_hours(x))\n",
    "\n",
    "cols = [\n",
    "        \"Age\", \"WorkClass\", \"Education\",\"EducationNum\", \"MaritalStatus\", \"Occupation\", \"Race\", \"Gender\",\n",
    "        \"CapitalGain\", \"CapitalLoss\", \"HoursPerWeek\", \"NativeCountry\", \"Income\"]\n",
    "df = df[cols]\n",
    "\n",
    "\n",
    "train_cols = df.columns[0:-1]\n",
    "label = df.columns[-1]\n",
    "X_df = df[train_cols]\n",
    "y_df = df[label]\n",
    "\n",
    "#Converting the response / output variable to a binary class\n",
    "y_df = y_df.apply(lambda x: 0 if x == \" <=50K\" else 1)\n",
    "\n",
    "dataset = {\n",
    "        'X': X_df,\n",
    "        'y': y_df,\n",
    "}\n",
    "\n",
    "#Top 5 rows of the original dataset:\n",
    "df.head()"
   ]
  },
  {
   "cell_type": "code",
   "execution_count": 58,
   "id": "3a9880eb",
   "metadata": {},
   "outputs": [],
   "source": [
    "# Use this cell for any data-related exploration"
   ]
  },
  {
   "cell_type": "markdown",
   "id": "7f650173",
   "metadata": {},
   "source": [
    "## 2. The Model: GAMs"
   ]
  },
  {
   "cell_type": "code",
   "execution_count": 59,
   "id": "3f1be215",
   "metadata": {},
   "outputs": [
    {
     "data": {
      "text/plain": [
       "ExplainableBoostingClassifier(feature_names=['Age', 'WorkClass', 'Education',\n",
       "                                             'EducationNum', 'MaritalStatus',\n",
       "                                             'Occupation', 'Race', 'Gender',\n",
       "                                             'CapitalGain', 'CapitalLoss',\n",
       "                                             'HoursPerWeek', 'NativeCountry',\n",
       "                                             'MaritalStatus x Gender',\n",
       "                                             'EducationNum x MaritalStatus',\n",
       "                                             'EducationNum x Occupation',\n",
       "                                             'WorkClass x Race',\n",
       "                                             'Occupation x HoursPerWeek',\n",
       "                                             'Age x CapitalLoss',\n",
       "                                             'EducationNum x Hou...\n",
       "                                             'EducationNum x NativeCountry',\n",
       "                                             'MaritalStatus x Occupation'],\n",
       "                              feature_types=['continuous', 'categorical',\n",
       "                                             'categorical', 'continuous',\n",
       "                                             'categorical', 'categorical',\n",
       "                                             'categorical', 'categorical',\n",
       "                                             'continuous', 'continuous',\n",
       "                                             'categorical', 'categorical',\n",
       "                                             'interaction', 'interaction',\n",
       "                                             'interaction', 'interaction',\n",
       "                                             'interaction', 'interaction',\n",
       "                                             'interaction', 'interaction',\n",
       "                                             'interaction', 'interaction'])"
      ]
     },
     "execution_count": 59,
     "metadata": {},
     "output_type": "execute_result"
    }
   ],
   "source": [
    "from interpret.glassbox import ExplainableBoostingClassifier\n",
    "from sklearn.model_selection import train_test_split\n",
    "\n",
    "# create a train/test split\n",
    "seed = 1\n",
    "X_train, X_test, y_train, y_test = train_test_split(dataset['X'],dataset['y'], test_size=0.25, random_state=seed)\n",
    "\n",
    "# train a GAM for the training dataset\n",
    "ebm = ExplainableBoostingClassifier()\n",
    "\n",
    "ebm.fit(X_train, y_train)"
   ]
  },
  {
   "cell_type": "code",
   "execution_count": 60,
   "id": "c757820d",
   "metadata": {},
   "outputs": [
    {
     "name": "stdout",
     "output_type": "stream",
     "text": [
      "The accuracy of the model on the training set is:  0.87461\n",
      "The accuracy of the model on the test set is:  0.87397\n"
     ]
    }
   ],
   "source": [
    "#Training accuracy\n",
    "train_pred = ebm.predict(X_train).tolist()\n",
    "train_pred = [0 if x<=0.5 else 1 for x in train_pred]\n",
    "accuracy_train = round(sum(train_pred == y_train) / len(train_pred), 5)\n",
    "\n",
    "#Test set accuracy\n",
    "predictions = ebm.predict(X_test).tolist()\n",
    "predictions = [0 if x <= 0.5 else 1 for x in predictions]\n",
    "\n",
    "accuracy_test = round(sum(predictions == y_test) / len(predictions), 5)\n",
    "\n",
    "print(\"The accuracy of the model on the training set is: \", accuracy_train)\n",
    "print(\"The accuracy of the model on the test set is: \", accuracy_test)\n",
    "\n",
    "indices = [index for index, value in enumerate(zip(predictions, y_test.tolist())) if value[0] != value[1]]"
   ]
  },
  {
   "cell_type": "markdown",
   "id": "d8aca434",
   "metadata": {},
   "source": [
    "### Visualize Global Explanations: What the model learned overall from training data"
   ]
  },
  {
   "cell_type": "code",
   "execution_count": 61,
   "id": "6821de58",
   "metadata": {
    "scrolled": false
   },
   "outputs": [
    {
     "data": {
      "text/html": [
       "<!-- http://127.0.0.1:7001/2866243350832/ -->\n",
       "<iframe src=\"http://127.0.0.1:7001/2866243350832/\" width=100% height=800 frameBorder=\"0\"></iframe>"
      ]
     },
     "metadata": {},
     "output_type": "display_data"
    }
   ],
   "source": [
    "from interpret import show\n",
    "\n",
    "ebm_global = ebm.explain_global()\n",
    "show(ebm_global)"
   ]
  },
  {
   "cell_type": "markdown",
   "id": "d7ffa409",
   "metadata": {},
   "source": [
    "### Visualize Local Explanations: How an individual prediction was made"
   ]
  },
  {
   "cell_type": "code",
   "execution_count": 62,
   "id": "7db41391",
   "metadata": {},
   "outputs": [
    {
     "data": {
      "text/html": [
       "<!-- http://127.0.0.1:7001/2865824786848/ -->\n",
       "<iframe src=\"http://127.0.0.1:7001/2865824786848/\" width=100% height=800 frameBorder=\"0\"></iframe>"
      ]
     },
     "metadata": {},
     "output_type": "display_data"
    }
   ],
   "source": [
    "ebm_local = ebm.explain_local(X_test[:15], y_test[:15], name = 'EBM')\n",
    "show(ebm_local)"
   ]
  },
  {
   "cell_type": "markdown",
   "id": "36bc5524",
   "metadata": {},
   "source": [
    "## 3. Questions\n",
    "Please answer these to the best of your abilities. Make sure to also answer the follow-up questions in each of the code cells.\n",
    "\n",
    "If you need to write code to answer the question, please use the code cell provided\n",
    "\n",
    "If you don't know how to answer a question, please note that to the researcher in the room, explain why you cannot answer the question in the cell, and move on to the next one."
   ]
  },
  {
   "cell_type": "markdown",
   "id": "0954a347",
   "metadata": {},
   "source": [
    "#### Part 1: How familiar are you with adult income census data in the United States?"
   ]
  },
  {
   "cell_type": "code",
   "execution_count": 63,
   "id": "1bda7f04",
   "metadata": {},
   "outputs": [],
   "source": [
    "## How familiar are you with adult income census data in the United States? \n",
    "# Response: \n",
    "# If you had to give it a number, on a scale of 1-7, how would you rate your familiarity? \n",
    "# Response: \n",
    "\n",
    "## Have you previously interacted with datasets about adult income in the United States? \n",
    "# Response: \n",
    "# On a scale of 1-7, how would you rate your familiarity with datasets about adult income in the United States? \n",
    "# Response: \n",
    "\n",
    "## Specifically, have you worked with UCI’s Adult Census Income dataset?  \n",
    "# Response: \n",
    "# On a scale of 1-7, how would you rate your familiarity with the Kaggle dataset?\n",
    "# Response: \n"
   ]
  },
  {
   "cell_type": "markdown",
   "id": "a383474d",
   "metadata": {},
   "source": [
    "#### Part 2: Global feature importance"
   ]
  },
  {
   "cell_type": "code",
   "execution_count": 64,
   "id": "4cd68e69",
   "metadata": {},
   "outputs": [],
   "source": [
    "## Is this feature importance order reasonable for the adult income census data? Why or why not?\n",
    "# Response: \n",
    "\n",
    "# On a scale of 1-7, how reasonable is the feature importance order?\n",
    "# Response: \n",
    "\n",
    "# On a scale of 1-7 (where 1 = Not at all and 7 = Extremely),\n",
    "# How confident are you that you have understood the explanation correctly?\n",
    "# Response: \n"
   ]
  },
  {
   "cell_type": "markdown",
   "id": "0215100a",
   "metadata": {},
   "source": [
    "#### Part 3: Individual feature importance"
   ]
  },
  {
   "cell_type": "code",
   "execution_count": 65,
   "id": "aa00da78",
   "metadata": {},
   "outputs": [],
   "source": [
    "## How would you describe the relationship between Age and income?\n",
    "# Response:\n",
    "\n",
    "## How would you describe the relationship between WorkClass and income?\n",
    "# Response:\n",
    "\n",
    "## How would you describe the relationship between EducationNum and income?\n",
    "# Response:\n",
    "\n",
    "# On a scale of 1-7 (where 1 = Not at all and 7 = Extremely),\n",
    "# How confident are you that you have understood these relationships correctly?\n",
    "# Response: \n"
   ]
  },
  {
   "cell_type": "markdown",
   "id": "226f49c4",
   "metadata": {},
   "source": [
    "#### Part 4: Local predictions"
   ]
  },
  {
   "attachments": {
    "income_hidden_result.png": {
     "image/png": "[encoded data removed]"
    }
   },
   "cell_type": "markdown",
   "id": "e0de5dd9",
   "metadata": {},
   "source": [
    "![income_hidden_result.png](attachment:income_hidden_result.png)"
   ]
  },
  {
   "cell_type": "code",
   "execution_count": 66,
   "id": "116b5670",
   "metadata": {},
   "outputs": [],
   "source": [
    "# Given the above input feature values, do you think this individual earned <=50k or >50k USD? Why?\n",
    "# Response: \n",
    "\n",
    "# On a scale of 1-7 (where 1 = Not at all and 7 = Extremely),\n",
    "# How confident are you that you have understood the explanation correctly?\n",
    "# Response: \n"
   ]
  },
  {
   "cell_type": "markdown",
   "id": "3cecc390",
   "metadata": {},
   "source": [
    "#### Part 5: Local misclassification"
   ]
  },
  {
   "cell_type": "code",
   "execution_count": 54,
   "id": "f0ede7fa",
   "metadata": {},
   "outputs": [
    {
     "data": {
      "text/html": [
       "<!-- http://127.0.0.1:7001/2866243127376/ -->\n",
       "<iframe src=\"http://127.0.0.1:7001/2866243127376/\" width=100% height=800 frameBorder=\"0\"></iframe>"
      ]
     },
     "metadata": {},
     "output_type": "display_data"
    }
   ],
   "source": [
    "ebm_local = ebm.explain_local(X_test[12:13], y_test[12:13], name='EBM')\n",
    "show(ebm_local)"
   ]
  },
  {
   "attachments": {
    "incorrect_pred.png": {
     "image/png": "[encoded data removed]"
    }
   },
   "cell_type": "markdown",
   "id": "75e31c29",
   "metadata": {},
   "source": [
    "![incorrect_pred.png](attachment:incorrect_pred.png)"
   ]
  },
  {
   "cell_type": "code",
   "execution_count": 50,
   "id": "0e252bd8",
   "metadata": {},
   "outputs": [],
   "source": [
    "# The model misclassified this particular datapoint (above). Why do you think that happened?\n",
    "# Response: \n",
    "\n",
    "# On a scale of 1-7 (where 1 = Not at all and 7 = Extremely),\n",
    "# How confident are you that you have understood the explanation correctly?\n",
    "# Response: \n"
   ]
  },
  {
   "cell_type": "markdown",
   "id": "12caba4c",
   "metadata": {},
   "source": [
    "#### Part 6: Reflecting"
   ]
  },
  {
   "cell_type": "code",
   "execution_count": 51,
   "id": "e833b65c",
   "metadata": {},
   "outputs": [],
   "source": [
    "## On a scale of 1-7, how easy was it to answer these questions about the adult income dataset?\n",
    "# Response: \n",
    "\n",
    "## What made it easy/hard to answer questions about the adult income dataset?\n",
    "# Response: \n",
    "\n",
    "## When answering the questions, were you relying on the visuals alone or was there any prior knowledge you used in your answers?\n",
    "# Response: \n"
   ]
  },
  {
   "cell_type": "code",
   "execution_count": null,
   "id": "96c0febf",
   "metadata": {},
   "outputs": [],
   "source": []
  }
 ],
 "metadata": {
  "kernelspec": {
   "display_name": "Python 3",
   "language": "python",
   "name": "python3"
  },
  "language_info": {
   "codemirror_mode": {
    "name": "ipython",
    "version": 3
   },
   "file_extension": ".py",
   "mimetype": "text/x-python",
   "name": "python",
   "nbconvert_exporter": "python",
   "pygments_lexer": "ipython3",
   "version": "3.8.8"
  }
 },
 "nbformat": 4,
 "nbformat_minor": 5
}
